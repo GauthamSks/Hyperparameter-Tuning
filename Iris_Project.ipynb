{
 "cells": [
  {
   "cell_type": "code",
   "execution_count": 7,
   "metadata": {},
   "outputs": [],
   "source": [
    "import pandas as pd\n",
    "import numpy as np\n",
    "import matplotlib.pyplot as plt"
   ]
  },
  {
   "cell_type": "code",
   "execution_count": 71,
   "metadata": {},
   "outputs": [],
   "source": [
    "Data = pd.read_csv('./IRIS.csv')\n",
    "\n",
    "Data = Data.replace('Iris-setosa',1)\n",
    "Data = Data.replace('Iris-versicolor',2)\n",
    "Data = Data.replace('Iris-virginica',3)"
   ]
  },
  {
   "cell_type": "markdown",
   "metadata": {},
   "source": [
    "To make prediction easy we are going to assume:\n",
    "- Iris-setosa as 1\n",
    "- Iris-versicolor as 2\n",
    "- Iris-virginica as 3"
   ]
  },
  {
   "cell_type": "code",
   "execution_count": 70,
   "metadata": {},
   "outputs": [],
   "source": [
    "#Creating the input feature and outcome matrix\n",
    "\n",
    "X = Data.values[:,:4] #Feature matrix\n",
    "Y = Data.values[:,4]  #Outcome matrix\n",
    " \n",
    "m = Y.size #No of training sample\n",
    "n = X.shape[1] #No of features"
   ]
  },
  {
   "cell_type": "code",
   "execution_count": null,
   "metadata": {},
   "outputs": [],
   "source": []
  }
 ],
 "metadata": {
  "kernelspec": {
   "display_name": "Python 3",
   "language": "python",
   "name": "python3"
  },
  "language_info": {
   "codemirror_mode": {
    "name": "ipython",
    "version": 3
   },
   "file_extension": ".py",
   "mimetype": "text/x-python",
   "name": "python",
   "nbconvert_exporter": "python",
   "pygments_lexer": "ipython3",
   "version": "3.7.3"
  }
 },
 "nbformat": 4,
 "nbformat_minor": 2
}
